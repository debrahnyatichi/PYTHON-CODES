{
 "cells": [
  {
   "cell_type": "markdown",
   "id": "7a5c39ff-2174-4106-9c09-0f73efc79ea6",
   "metadata": {},
   "source": [
    "A python program to multiply 3 numbers"
   ]
  },
  {
   "cell_type": "code",
   "execution_count": 2,
   "id": "bef969a5-4c67-4ab9-bd5b-55e1a8bb130c",
   "metadata": {},
   "outputs": [
    {
     "name": "stdin",
     "output_type": "stream",
     "text": [
      "Enter first number: 56\n",
      "Enter second number: 78\n",
      "Enter third number: 87\n"
     ]
    },
    {
     "name": "stdout",
     "output_type": "stream",
     "text": [
      "multiplication of three numbers: 380016\n"
     ]
    }
   ],
   "source": [
    "a=int(input(\"Enter first number:\"))\n",
    "b=int(input(\"Enter second number:\"))\n",
    "c=int(input(\"Enter third number:\"))\n",
    "d=a*b*c\n",
    "print(\"multiplication of three numbers:\",d)"
   ]
  }
 ],
 "metadata": {
  "kernelspec": {
   "display_name": "Python 3 (ipykernel)",
   "language": "python",
   "name": "python3"
  },
  "language_info": {
   "codemirror_mode": {
    "name": "ipython",
    "version": 3
   },
   "file_extension": ".py",
   "mimetype": "text/x-python",
   "name": "python",
   "nbconvert_exporter": "python",
   "pygments_lexer": "ipython3",
   "version": "3.11.7"
  }
 },
 "nbformat": 4,
 "nbformat_minor": 5
}
