{
 "cells": [
  {
   "cell_type": "markdown",
   "id": "c56a819e-59b3-4325-9449-76aa9c236365",
   "metadata": {},
   "source": [
    "Print variable a"
   ]
  },
  {
   "cell_type": "code",
   "execution_count": 3,
   "id": "a43e281a-e02a-4291-8721-23895e5e8091",
   "metadata": {},
   "outputs": [
    {
     "data": {
      "text/plain": [
       "50"
      ]
     },
     "execution_count": 3,
     "metadata": {},
     "output_type": "execute_result"
    }
   ],
   "source": [
    "a = 50\n",
    "a"
   ]
  },
  {
   "cell_type": "markdown",
   "id": "8b878ce4-b8af-40bc-bc92-b2ec24fead06",
   "metadata": {},
   "source": [
    "to check the type of variable a"
   ]
  },
  {
   "cell_type": "code",
   "execution_count": 4,
   "id": "4cf35575-24c5-4059-8b2f-e697d9a69cf7",
   "metadata": {},
   "outputs": [
    {
     "data": {
      "text/plain": [
       "int"
      ]
     },
     "execution_count": 4,
     "metadata": {},
     "output_type": "execute_result"
    }
   ],
   "source": [
    "type(a)"
   ]
  },
  {
   "cell_type": "markdown",
   "id": "640519a5-daed-4817-8462-b0a8bccd6ae6",
   "metadata": {},
   "source": [
    "id() it returns a unique id for the specified object. The unique id is always assigned when an object is created"
   ]
  },
  {
   "cell_type": "code",
   "execution_count": 5,
   "id": "89545b8a-e94a-413b-994b-04fac3ec45be",
   "metadata": {},
   "outputs": [
    {
     "data": {
      "text/plain": [
       "140707513485640"
      ]
     },
     "execution_count": 5,
     "metadata": {},
     "output_type": "execute_result"
    }
   ],
   "source": [
    "id(a)"
   ]
  },
  {
   "cell_type": "code",
   "execution_count": 6,
   "id": "c516b68c-0310-4e31-be24-791209c72c99",
   "metadata": {},
   "outputs": [
    {
     "data": {
      "text/plain": [
       "140707513487240"
      ]
     },
     "execution_count": 6,
     "metadata": {},
     "output_type": "execute_result"
    }
   ],
   "source": [
    "a=100\n",
    "id(a)"
   ]
  },
  {
   "cell_type": "markdown",
   "id": "70f49d42-7f2b-4b06-ab31-8c1b3cb310a5",
   "metadata": {},
   "source": [
    "Assigning multiple variables on a single line"
   ]
  },
  {
   "cell_type": "code",
   "execution_count": 7,
   "id": "f7e52844-800f-4d7c-89f9-05f6766b1a81",
   "metadata": {},
   "outputs": [],
   "source": [
    "(x,y,z) = 50,168.6,\"Debienta\""
   ]
  },
  {
   "cell_type": "code",
   "execution_count": 8,
   "id": "df588102-40cf-4f6a-92b4-935fb7796867",
   "metadata": {},
   "outputs": [
    {
     "data": {
      "text/plain": [
       "50"
      ]
     },
     "execution_count": 8,
     "metadata": {},
     "output_type": "execute_result"
    }
   ],
   "source": [
    "x"
   ]
  },
  {
   "cell_type": "code",
   "execution_count": 9,
   "id": "614b781d-a40b-4f94-9365-90a642cd3258",
   "metadata": {},
   "outputs": [
    {
     "data": {
      "text/plain": [
       "168.6"
      ]
     },
     "execution_count": 9,
     "metadata": {},
     "output_type": "execute_result"
    }
   ],
   "source": [
    "y"
   ]
  },
  {
   "cell_type": "code",
   "execution_count": 10,
   "id": "20273d62-4b16-4f3f-b1c0-0d71e7c7b4fe",
   "metadata": {},
   "outputs": [
    {
     "data": {
      "text/plain": [
       "'Debienta'"
      ]
     },
     "execution_count": 10,
     "metadata": {},
     "output_type": "execute_result"
    }
   ],
   "source": [
    "z"
   ]
  },
  {
   "cell_type": "code",
   "execution_count": 11,
   "id": "2731adfa-7fea-47d2-85b9-84f0e036f7ed",
   "metadata": {},
   "outputs": [
    {
     "data": {
      "text/plain": [
       "int"
      ]
     },
     "execution_count": 11,
     "metadata": {},
     "output_type": "execute_result"
    }
   ],
   "source": [
    "type(x)"
   ]
  },
  {
   "cell_type": "code",
   "execution_count": 12,
   "id": "595c60ad-253c-4959-8e8c-abd2ae9719d6",
   "metadata": {},
   "outputs": [
    {
     "data": {
      "text/plain": [
       "float"
      ]
     },
     "execution_count": 12,
     "metadata": {},
     "output_type": "execute_result"
    }
   ],
   "source": [
    "type(y)"
   ]
  },
  {
   "cell_type": "code",
   "execution_count": 13,
   "id": "d2a143db-9714-4f61-83f7-b543c566832f",
   "metadata": {},
   "outputs": [
    {
     "data": {
      "text/plain": [
       "str"
      ]
     },
     "execution_count": 13,
     "metadata": {},
     "output_type": "execute_result"
    }
   ],
   "source": [
    "type(z)"
   ]
  },
  {
   "cell_type": "code",
   "execution_count": 14,
   "id": "4ca212d2-c9b8-4a04-9633-e0bbcde31055",
   "metadata": {},
   "outputs": [],
   "source": [
    "x=y=z=10"
   ]
  },
  {
   "cell_type": "code",
   "execution_count": 15,
   "id": "0d3147c3-7d7a-416c-92d5-28a8d19e99f4",
   "metadata": {},
   "outputs": [
    {
     "data": {
      "text/plain": [
       "10"
      ]
     },
     "execution_count": 15,
     "metadata": {},
     "output_type": "execute_result"
    }
   ],
   "source": [
    "x"
   ]
  },
  {
   "cell_type": "code",
   "execution_count": 16,
   "id": "5ff6ad92-ae8b-45f4-b69d-a33ef13040af",
   "metadata": {},
   "outputs": [
    {
     "data": {
      "text/plain": [
       "10"
      ]
     },
     "execution_count": 16,
     "metadata": {},
     "output_type": "execute_result"
    }
   ],
   "source": [
    "y"
   ]
  },
  {
   "cell_type": "code",
   "execution_count": 17,
   "id": "115884cc-5576-4cc9-b2ad-5bbc20ab5ded",
   "metadata": {},
   "outputs": [
    {
     "data": {
      "text/plain": [
       "10"
      ]
     },
     "execution_count": 17,
     "metadata": {},
     "output_type": "execute_result"
    }
   ],
   "source": [
    "z"
   ]
  },
  {
   "cell_type": "code",
   "execution_count": 18,
   "id": "ddd0fd90-dcac-43ce-8e12-41650172fb62",
   "metadata": {},
   "outputs": [],
   "source": [
    "(x,y,z)=10,10,10"
   ]
  },
  {
   "cell_type": "code",
   "execution_count": 19,
   "id": "678879a6-ce3d-40e6-9366-a8425c96ab3d",
   "metadata": {},
   "outputs": [
    {
     "data": {
      "text/plain": [
       "10"
      ]
     },
     "execution_count": 19,
     "metadata": {},
     "output_type": "execute_result"
    }
   ],
   "source": [
    "x"
   ]
  },
  {
   "cell_type": "code",
   "execution_count": 20,
   "id": "52c406c4-1cca-4081-8376-9394de2afded",
   "metadata": {},
   "outputs": [
    {
     "data": {
      "text/plain": [
       "10"
      ]
     },
     "execution_count": 20,
     "metadata": {},
     "output_type": "execute_result"
    }
   ],
   "source": [
    "y"
   ]
  },
  {
   "cell_type": "code",
   "execution_count": 21,
   "id": "dc178c94-a404-4e89-83f2-6a5cbe312262",
   "metadata": {},
   "outputs": [
    {
     "data": {
      "text/plain": [
       "10"
      ]
     },
     "execution_count": 21,
     "metadata": {},
     "output_type": "execute_result"
    }
   ],
   "source": [
    "z"
   ]
  },
  {
   "cell_type": "markdown",
   "id": "582f18a8-af88-4bb8-aa6b-cf8e2f8dfea0",
   "metadata": {},
   "source": [
    "Rules for variable naming"
   ]
  },
  {
   "cell_type": "code",
   "execution_count": 22,
   "id": "9c864771-2dd2-4b06-a92f-f4ac1377fb12",
   "metadata": {},
   "outputs": [],
   "source": [
    "abc = 100"
   ]
  },
  {
   "cell_type": "code",
   "execution_count": 23,
   "id": "36e91312-1ade-4e89-916a-db32ac977940",
   "metadata": {},
   "outputs": [
    {
     "data": {
      "text/plain": [
       "100"
      ]
     },
     "execution_count": 23,
     "metadata": {},
     "output_type": "execute_result"
    }
   ],
   "source": [
    "abc"
   ]
  },
  {
   "cell_type": "code",
   "execution_count": 24,
   "id": "0ab41639-20b2-4ad1-a320-6c934e308f43",
   "metadata": {},
   "outputs": [
    {
     "data": {
      "text/plain": [
       "'India'"
      ]
     },
     "execution_count": 24,
     "metadata": {},
     "output_type": "execute_result"
    }
   ],
   "source": [
    "a102=\"India\"\n",
    "a102"
   ]
  },
  {
   "cell_type": "code",
   "execution_count": 25,
   "id": "3b6ef007-cf5f-4bc0-949b-7eae39a88890",
   "metadata": {},
   "outputs": [
    {
     "data": {
      "text/plain": [
       "70.5"
      ]
     },
     "execution_count": 25,
     "metadata": {},
     "output_type": "execute_result"
    }
   ],
   "source": [
    "_123=70.5\n",
    "_123"
   ]
  },
  {
   "cell_type": "code",
   "execution_count": 26,
   "id": "a063fe9e-a7b9-4e23-9a8e-3f2b1eb1b136",
   "metadata": {},
   "outputs": [
    {
     "data": {
      "text/plain": [
       "'puppy'"
      ]
     },
     "execution_count": 26,
     "metadata": {},
     "output_type": "execute_result"
    }
   ],
   "source": [
    "_dog=\"puppy\"\n",
    "_dog"
   ]
  },
  {
   "cell_type": "code",
   "execution_count": 27,
   "id": "ad77e0b5-dc1e-4d24-8bf2-5e0fd050ecc1",
   "metadata": {},
   "outputs": [
    {
     "data": {
      "text/plain": [
       "'debby 21'"
      ]
     },
     "execution_count": 27,
     "metadata": {},
     "output_type": "execute_result"
    }
   ],
   "source": [
    "_name_age=\"debby 21\"\n",
    "_name_age"
   ]
  },
  {
   "cell_type": "markdown",
   "id": "24099a8b-82ac-4601-8924-a13bce42f5e6",
   "metadata": {},
   "source": [
    " A variable name cannot start with a number. Like in the cell below it will indicate an error."
   ]
  },
  {
   "cell_type": "code",
   "execution_count": 1,
   "id": "d9a8e078-c831-49e9-8e2b-4585b9da774c",
   "metadata": {},
   "outputs": [
    {
     "ename": "SyntaxError",
     "evalue": "invalid decimal literal (1319638671.py, line 1)",
     "output_type": "error",
     "traceback": [
      "\u001b[1;36m  Cell \u001b[1;32mIn[1], line 1\u001b[1;36m\u001b[0m\n\u001b[1;33m    1name='gili'\u001b[0m\n\u001b[1;37m    ^\u001b[0m\n\u001b[1;31mSyntaxError\u001b[0m\u001b[1;31m:\u001b[0m invalid decimal literal\n"
     ]
    }
   ],
   "source": [
    "1name='gili'\n",
    "1name"
   ]
  },
  {
   "cell_type": "markdown",
   "id": "e52e7cb5-4d22-4b8d-9624-c89e5311cdc6",
   "metadata": {},
   "source": [
    "@ is not recognized when giving a variable name"
   ]
  },
  {
   "cell_type": "code",
   "execution_count": 2,
   "id": "37724b4c-17a7-4851-9e85-997cfacd18d3",
   "metadata": {},
   "outputs": [
    {
     "ename": "SyntaxError",
     "evalue": "invalid syntax. Maybe you meant '==' or ':=' instead of '='? (2199593111.py, line 1)",
     "output_type": "error",
     "traceback": [
      "\u001b[1;36m  Cell \u001b[1;32mIn[2], line 1\u001b[1;36m\u001b[0m\n\u001b[1;33m    @age = 40\u001b[0m\n\u001b[1;37m     ^\u001b[0m\n\u001b[1;31mSyntaxError\u001b[0m\u001b[1;31m:\u001b[0m invalid syntax. Maybe you meant '==' or ':=' instead of '='?\n"
     ]
    }
   ],
   "source": [
    "@age = 40"
   ]
  },
  {
   "cell_type": "markdown",
   "id": "1eaa86b9-edb6-46be-8c2d-9e2df497dbab",
   "metadata": {},
   "source": [
    "$ is not recognized when giving a variable name"
   ]
  },
  {
   "cell_type": "code",
   "execution_count": 3,
   "id": "261e73e3-e438-47ba-9a54-6efca1ed3360",
   "metadata": {},
   "outputs": [
    {
     "ename": "SyntaxError",
     "evalue": "invalid syntax (3882836939.py, line 1)",
     "output_type": "error",
     "traceback": [
      "\u001b[1;36m  Cell \u001b[1;32mIn[3], line 1\u001b[1;36m\u001b[0m\n\u001b[1;33m    name$age = 40\u001b[0m\n\u001b[1;37m        ^\u001b[0m\n\u001b[1;31mSyntaxError\u001b[0m\u001b[1;31m:\u001b[0m invalid syntax\n"
     ]
    }
   ],
   "source": [
    "name$age = 40"
   ]
  },
  {
   "cell_type": "markdown",
   "id": "fd6918fa-cc0d-4151-8e5b-03202a1e2aa7",
   "metadata": {},
   "source": [
    "Variables are case sensitive CAR is not similar to car"
   ]
  },
  {
   "cell_type": "code",
   "execution_count": 6,
   "id": "a5c169fa-4a0e-4708-b569-eb8472eda78d",
   "metadata": {},
   "outputs": [
    {
     "data": {
      "text/plain": [
       "'BMW'"
      ]
     },
     "execution_count": 6,
     "metadata": {},
     "output_type": "execute_result"
    }
   ],
   "source": [
    "car = 'BMW'\n",
    "car"
   ]
  },
  {
   "cell_type": "code",
   "execution_count": 7,
   "id": "49cda1b8-421c-4857-a4e1-38b1410f73f1",
   "metadata": {},
   "outputs": [
    {
     "data": {
      "text/plain": [
       "'Toyota'"
      ]
     },
     "execution_count": 7,
     "metadata": {},
     "output_type": "execute_result"
    }
   ],
   "source": [
    "CAR = 'Toyota'\n",
    "CAR"
   ]
  },
  {
   "cell_type": "raw",
   "id": "710b7505-72e8-45de-b0d2-14e91e554de0",
   "metadata": {},
   "source": [
    "Reserve words cannot be used as variable names in python\n",
    "They include:\n",
    "False\tdef\tif\traise\n",
    "None\tdel\timport\treturn\n",
    "True\telif\tin\ttry\n",
    "and\telse\tis\twhile\n",
    "as\texcept\tlambda\twith\n",
    "assert\tfinally\tnonlocal\tyield\n",
    "break\tfor\tnot\t\n",
    "class\tfrom\tor\n",
    "continue\tglobal\tpass\n"
   ]
  },
  {
   "cell_type": "code",
   "execution_count": 8,
   "id": "775b56cc-8cf5-4eb1-ab9a-1eaf40123869",
   "metadata": {},
   "outputs": [
    {
     "ename": "SyntaxError",
     "evalue": "invalid syntax (1375032292.py, line 1)",
     "output_type": "error",
     "traceback": [
      "\u001b[1;36m  Cell \u001b[1;32mIn[8], line 1\u001b[1;36m\u001b[0m\n\u001b[1;33m    break =80\u001b[0m\n\u001b[1;37m          ^\u001b[0m\n\u001b[1;31mSyntaxError\u001b[0m\u001b[1;31m:\u001b[0m invalid syntax\n"
     ]
    }
   ],
   "source": [
    "break =80"
   ]
  },
  {
   "cell_type": "code",
   "execution_count": 12,
   "id": "e2c4b908-cc40-4471-81a4-9a6688925e6a",
   "metadata": {},
   "outputs": [
    {
     "ename": "SyntaxError",
     "evalue": "invalid syntax (719622438.py, line 1)",
     "output_type": "error",
     "traceback": [
      "\u001b[1;36m  Cell \u001b[1;32mIn[12], line 1\u001b[1;36m\u001b[0m\n\u001b[1;33m    continue = 3\u001b[0m\n\u001b[1;37m             ^\u001b[0m\n\u001b[1;31mSyntaxError\u001b[0m\u001b[1;31m:\u001b[0m invalid syntax\n"
     ]
    }
   ],
   "source": [
    "continue = 3"
   ]
  },
  {
   "cell_type": "code",
   "execution_count": 14,
   "id": "9491756d-95bf-47ba-b671-6cddda9cef52",
   "metadata": {},
   "outputs": [
    {
     "data": {
      "text/plain": [
       "4"
      ]
     },
     "execution_count": 14,
     "metadata": {},
     "output_type": "execute_result"
    }
   ],
   "source": [
    "_continue = 4\n",
    "_continue"
   ]
  },
  {
   "cell_type": "code",
   "execution_count": 15,
   "id": "e55c468e-2d15-4a4c-9df3-94f9e7531c67",
   "metadata": {},
   "outputs": [
    {
     "ename": "SyntaxError",
     "evalue": "cannot assign to False (1160946929.py, line 1)",
     "output_type": "error",
     "traceback": [
      "\u001b[1;36m  Cell \u001b[1;32mIn[15], line 1\u001b[1;36m\u001b[0m\n\u001b[1;33m    False = 0\u001b[0m\n\u001b[1;37m    ^\u001b[0m\n\u001b[1;31mSyntaxError\u001b[0m\u001b[1;31m:\u001b[0m cannot assign to False\n"
     ]
    }
   ],
   "source": [
    "False = 0"
   ]
  },
  {
   "cell_type": "code",
   "execution_count": 19,
   "id": "4844708a-d1df-4b31-8da7-3885563bda78",
   "metadata": {},
   "outputs": [
    {
     "name": "stdout",
     "output_type": "stream",
     "text": [
      "600\n"
     ]
    }
   ],
   "source": [
    "#Basic Python Operations\n",
    "a=200\n",
    "b=400\n",
    "result=a+b\n",
    "print (result)"
   ]
  },
  {
   "cell_type": "code",
   "execution_count": 20,
   "id": "bb43bc5f-164d-4e56-993b-a06ea39219d1",
   "metadata": {},
   "outputs": [
    {
     "data": {
      "text/plain": [
       "-200"
      ]
     },
     "execution_count": 20,
     "metadata": {},
     "output_type": "execute_result"
    }
   ],
   "source": [
    "result=a-b\n",
    "result"
   ]
  },
  {
   "cell_type": "code",
   "execution_count": 21,
   "id": "73400e94-a053-4973-b74a-d6efd0e89b85",
   "metadata": {},
   "outputs": [
    {
     "data": {
      "text/plain": [
       "0.5"
      ]
     },
     "execution_count": 21,
     "metadata": {},
     "output_type": "execute_result"
    }
   ],
   "source": [
    "result=a/b\n",
    "result"
   ]
  },
  {
   "cell_type": "code",
   "execution_count": 23,
   "id": "eb82795e-1ca6-438c-b3b2-4c94b3e13da5",
   "metadata": {},
   "outputs": [
    {
     "data": {
      "text/plain": [
       "2"
      ]
     },
     "execution_count": 23,
     "metadata": {},
     "output_type": "execute_result"
    }
   ],
   "source": [
    "#integer division\n",
    "result=100//40\n",
    "result"
   ]
  },
  {
   "cell_type": "code",
   "execution_count": 24,
   "id": "a4896097-6dd1-49ce-99b0-66d95d781932",
   "metadata": {},
   "outputs": [
    {
     "data": {
      "text/plain": [
       "'India'"
      ]
     },
     "execution_count": 24,
     "metadata": {},
     "output_type": "execute_result"
    }
   ],
   "source": [
    "Country = 'India'\n",
    "Country"
   ]
  },
  {
   "cell_type": "code",
   "execution_count": 27,
   "id": "bc75e3c3-ea9d-4071-98f9-62d560b0c4b1",
   "metadata": {},
   "outputs": [
    {
     "data": {
      "text/plain": [
       "'i'"
      ]
     },
     "execution_count": 27,
     "metadata": {},
     "output_type": "execute_result"
    }
   ],
   "source": [
    "#Gives the letter on the 3rd array index\n",
    "#when counting you start from index 0\n",
    "Country[3]"
   ]
  },
  {
   "cell_type": "code",
   "execution_count": 28,
   "id": "65b89bae-419c-40a0-9bfe-6a6c77ec6c6b",
   "metadata": {},
   "outputs": [
    {
     "data": {
      "text/plain": [
       "'Ind'"
      ]
     },
     "execution_count": 28,
     "metadata": {},
     "output_type": "execute_result"
    }
   ],
   "source": [
    "#Gives the letter upto the 3rd array index\n",
    "Country[:3]"
   ]
  },
  {
   "cell_type": "code",
   "execution_count": 30,
   "id": "347b3e26-f58c-49aa-b4ef-3af642590f04",
   "metadata": {},
   "outputs": [
    {
     "data": {
      "text/plain": [
       "['BMW', 'Ferrari', 'Toyota']"
      ]
     },
     "execution_count": 30,
     "metadata": {},
     "output_type": "execute_result"
    }
   ],
   "source": [
    "cars = ['BMW', 'Ferrari', 'Toyota']\n",
    "cars"
   ]
  },
  {
   "cell_type": "code",
   "execution_count": 36,
   "id": "b0da9f77-1685-4e2b-809b-3743c392ca3d",
   "metadata": {},
   "outputs": [],
   "source": [
    "#allows you to assign variables from the liost of cars\n",
    "x,y,z = cars"
   ]
  },
  {
   "cell_type": "code",
   "execution_count": 37,
   "id": "2921c1e2-9d31-4f35-9a8d-5a1c9307e617",
   "metadata": {},
   "outputs": [
    {
     "data": {
      "text/plain": [
       "'BMW'"
      ]
     },
     "execution_count": 37,
     "metadata": {},
     "output_type": "execute_result"
    }
   ],
   "source": [
    "x"
   ]
  },
  {
   "cell_type": "code",
   "execution_count": 38,
   "id": "c4db383f-edca-44e7-8663-718de08e9d38",
   "metadata": {},
   "outputs": [
    {
     "data": {
      "text/plain": [
       "'Ferrari'"
      ]
     },
     "execution_count": 38,
     "metadata": {},
     "output_type": "execute_result"
    }
   ],
   "source": [
    "y"
   ]
  },
  {
   "cell_type": "code",
   "execution_count": 39,
   "id": "efbfc380-7714-455f-8c40-a5588351d8d8",
   "metadata": {},
   "outputs": [
    {
     "data": {
      "text/plain": [
       "'Toyota'"
      ]
     },
     "execution_count": 39,
     "metadata": {},
     "output_type": "execute_result"
    }
   ],
   "source": [
    "z"
   ]
  },
  {
   "cell_type": "markdown",
   "id": "5bd7d365-eae6-4e72-9d09-f3b0ab5f5fe7",
   "metadata": {},
   "source": [
    "VARIABLES TO PRINT FUNCTIONS OR STATEMENTS"
   ]
  },
  {
   "cell_type": "code",
   "execution_count": 43,
   "id": "51b25a8c-44b7-40c5-8d63-e244127d63de",
   "metadata": {},
   "outputs": [
    {
     "name": "stdout",
     "output_type": "stream",
     "text": [
      "Welcome to Debienta\n"
     ]
    }
   ],
   "source": [
    "x = \"Debienta\"\n",
    "print(\"Welcome to \" + x)"
   ]
  },
  {
   "cell_type": "code",
   "execution_count": 44,
   "id": "a2654e7b-5736-456e-85ee-4c106babeba2",
   "metadata": {},
   "outputs": [
    {
     "ename": "TypeError",
     "evalue": "unsupported operand type(s) for +: 'int' and 'str'",
     "output_type": "error",
     "traceback": [
      "\u001b[1;31m---------------------------------------------------------------------------\u001b[0m",
      "\u001b[1;31mTypeError\u001b[0m                                 Traceback (most recent call last)",
      "Cell \u001b[1;32mIn[44], line 4\u001b[0m\n\u001b[0;32m      2\u001b[0m x \u001b[38;5;241m=\u001b[39m \u001b[38;5;241m20\u001b[39m\n\u001b[0;32m      3\u001b[0m y \u001b[38;5;241m=\u001b[39m \u001b[38;5;124m\"\u001b[39m\u001b[38;5;124mDebienta\u001b[39m\u001b[38;5;124m\"\u001b[39m\n\u001b[1;32m----> 4\u001b[0m \u001b[38;5;28mprint\u001b[39m(x\u001b[38;5;241m+\u001b[39my)\n",
      "\u001b[1;31mTypeError\u001b[0m: unsupported operand type(s) for +: 'int' and 'str'"
     ]
    }
   ],
   "source": [
    "#In python you cannot add an integer and a string\n",
    "x = 20\n",
    "y = \"Debienta\"\n",
    "print(x+y)"
   ]
  },
  {
   "cell_type": "code",
   "execution_count": 45,
   "id": "7e43d65f-66bf-4c79-94e1-a82cf2b63078",
   "metadata": {},
   "outputs": [
    {
     "data": {
      "text/plain": [
       "'IT'"
      ]
     },
     "execution_count": 45,
     "metadata": {},
     "output_type": "execute_result"
    }
   ],
   "source": [
    "#How to write multi-word variables\n",
    "#1. Camel case- first word starts with small letter and 2nd word starts with caps\n",
    "myDepartment = \"IT\"\n",
    "myDepartment"
   ]
  },
  {
   "cell_type": "code",
   "execution_count": 46,
   "id": "f0aef999-a8c0-4b56-ac74-edfb94f9515f",
   "metadata": {},
   "outputs": [
    {
     "data": {
      "text/plain": [
       "'BMW'"
      ]
     },
     "execution_count": 46,
     "metadata": {},
     "output_type": "execute_result"
    }
   ],
   "source": [
    "carBrand=\"BMW\"\n",
    "carBrand"
   ]
  },
  {
   "cell_type": "code",
   "execution_count": 47,
   "id": "7db5a337-d36c-471b-a6dc-e3f7d8e16e51",
   "metadata": {},
   "outputs": [
    {
     "data": {
      "text/plain": [
       "'Deborah'"
      ]
     },
     "execution_count": 47,
     "metadata": {},
     "output_type": "execute_result"
    }
   ],
   "source": [
    "#Pascal Case - each word starts with a capital letter\n",
    "MyName = \"Deborah\"\n",
    "MyName"
   ]
  },
  {
   "cell_type": "code",
   "execution_count": 48,
   "id": "5a103e63-2bb4-4a05-ad2a-ffc89efbe2bd",
   "metadata": {},
   "outputs": [
    {
     "data": {
      "text/plain": [
       "22"
      ]
     },
     "execution_count": 48,
     "metadata": {},
     "output_type": "execute_result"
    }
   ],
   "source": [
    "AgeNow=22\n",
    "AgeNow"
   ]
  },
  {
   "cell_type": "code",
   "execution_count": 49,
   "id": "32978d84-ce22-4208-8bda-8119e8a3cc95",
   "metadata": {},
   "outputs": [
    {
     "data": {
      "text/plain": [
       "'Newyork'"
      ]
     },
     "execution_count": 49,
     "metadata": {},
     "output_type": "execute_result"
    }
   ],
   "source": [
    "#Snake Case - each word is splitted by an underscore\n",
    "city_address=\"Newyork\"\n",
    "city_address\n"
   ]
  },
  {
   "cell_type": "code",
   "execution_count": 50,
   "id": "8d836a0f-e76a-4b2b-aad3-48f68b27ac64",
   "metadata": {},
   "outputs": [
    {
     "data": {
      "text/plain": [
       "40"
      ]
     },
     "execution_count": 50,
     "metadata": {},
     "output_type": "execute_result"
    }
   ],
   "source": [
    "my_current_age=40\n",
    "my_current_age"
   ]
  },
  {
   "cell_type": "code",
   "execution_count": null,
   "id": "1a0cf4d2-07a8-4233-9d40-9d601f76a94a",
   "metadata": {},
   "outputs": [],
   "source": []
  }
 ],
 "metadata": {
  "kernelspec": {
   "display_name": "Python 3 (ipykernel)",
   "language": "python",
   "name": "python3"
  },
  "language_info": {
   "codemirror_mode": {
    "name": "ipython",
    "version": 3
   },
   "file_extension": ".py",
   "mimetype": "text/x-python",
   "name": "python",
   "nbconvert_exporter": "python",
   "pygments_lexer": "ipython3",
   "version": "3.11.7"
  }
 },
 "nbformat": 4,
 "nbformat_minor": 5
}
